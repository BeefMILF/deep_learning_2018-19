{
 "cells": [
  {
   "cell_type": "markdown",
   "metadata": {
    "colab_type": "text",
    "id": "KxIquH6GK7kt"
   },
   "source": [
    "<p style=\"align: center;\"><img align=center src=\"https://s8.hostingkartinok.com/uploads/images/2018/08/308b49fcfbc619d629fe4604bceb67ac.jpg\" width=500 height=450/></p>\n",
    "\n",
    "<h3 style=\"text-align: center;\"><b>Физтех-Школа Прикладной математики и информатики (ФПМИ) МФТИ</b></h3>"
   ]
  },
  {
   "cell_type": "markdown",
   "metadata": {
    "colab_type": "text",
    "id": "h8gsBtzoGEhe"
   },
   "source": [
    "---"
   ]
  },
  {
   "cell_type": "markdown",
   "metadata": {
    "colab_type": "text",
    "id": "f32591XJK7kw"
   },
   "source": [
    "## Домашнее задание: библиотека Numpy и линейная алгебра. Решение\n"
   ]
  },
  {
   "cell_type": "code",
   "execution_count": 1,
   "metadata": {
    "colab": {},
    "colab_type": "code",
    "id": "YEJ8DQ4QK7kx"
   },
   "outputs": [],
   "source": [
    "import numpy as np\n",
    "import random\n",
    "import scipy.stats as sps"
   ]
  },
  {
   "cell_type": "markdown",
   "metadata": {
    "colab_type": "text",
    "id": "5_eFZpeoK7k2"
   },
   "source": [
    "### Numpy"
   ]
  },
  {
   "cell_type": "markdown",
   "metadata": {
    "colab_type": "text",
    "id": "hYXhVX0eK7k2"
   },
   "source": [
    "### Задание 1\n",
    "В первой задаче вам предлагается перемножить две квадратные матрицы двумя способами -- без использования пакета ***numpy*** и с ним."
   ]
  },
  {
   "cell_type": "code",
   "execution_count": 26,
   "metadata": {
    "colab": {
     "base_uri": "https://localhost:8080/",
     "height": 255
    },
    "colab_type": "code",
    "id": "zJR8EANzK7k3",
    "outputId": "44277455-5875-4c28-c445-1e5fba38f950"
   },
   "outputs": [
    {
     "name": "stdout",
     "output_type": "stream",
     "text": [
      "[[0.35647625 0.05768853 0.9345776  ... 0.47690418 0.33930844 0.49188407]\n",
      " [0.43079235 0.92164308 0.55268182 ... 0.83546575 0.58452968 0.7667884 ]\n",
      " [0.614432   0.96339595 0.9112368  ... 0.47200832 0.05550012 0.67192136]\n",
      " ...\n",
      " [0.32963412 0.90587828 0.54003204 ... 0.45177209 0.522244   0.60640839]\n",
      " [0.59802061 0.66814703 0.75734964 ... 0.30602894 0.22509135 0.05359704]\n",
      " [0.16826252 0.18758348 0.6076556  ... 0.92348706 0.08682927 0.37272463]]\n",
      "[[0.79412462 0.04067908 0.54197233 ... 0.61716349 0.88628431 0.1339721 ]\n",
      " [0.52603322 0.5057804  0.39643232 ... 0.34684506 0.53099573 0.23973301]\n",
      " [0.74801309 0.83711791 0.47492016 ... 0.81949323 0.42452973 0.56156448]\n",
      " ...\n",
      " [0.51304084 0.20321123 0.69379728 ... 0.32018995 0.4634417  0.93210825]\n",
      " [0.12644104 0.72042072 0.03528579 ... 0.71609861 0.78357151 0.28718411]\n",
      " [0.43610064 0.53547608 0.22742268 ... 0.08630132 0.30201838 0.76482457]]\n"
     ]
    }
   ],
   "source": [
    "# Для генерации матриц используем фукнцию random -- она используется для генерации случайных объектов \n",
    "# функция sample создает случайную выборку. В качестве аргумента ей передается кортеж (i,j),  \n",
    "# здесь i -- число строк, j -- число столбцов.\n",
    "a = np.random.sample((100, 100))\n",
    "b = np.random.sample((100, 100))\n",
    "# выведите размерность (ранг) каждой матрицы с помощью функции ndim.\n",
    "# Используйте функцию shape, что она вывела?\n",
    "# ========\n",
    "# Ваш код здесь\n",
    "# ========\n",
    "print(a)\n",
    "print(b)"
   ]
  },
  {
   "cell_type": "code",
   "execution_count": 21,
   "metadata": {
    "colab": {},
    "colab_type": "code",
    "id": "bkWCI4TPK7k8"
   },
   "outputs": [
    {
     "name": "stdout",
     "output_type": "stream",
     "text": [
      "(3, 4) (4, 2)\n"
     ]
    },
    {
     "data": {
      "text/plain": [
       "-8"
      ]
     },
     "execution_count": 21,
     "metadata": {},
     "output_type": "execute_result"
    }
   ],
   "source": [
    "def mult(a, b):\n",
    "    # здесь напишите перемножение матриц без \n",
    "    # использования NumPy и выведите результат\n",
    "#     a = a.tolist() if isinstance(a, np.ndarray) else a \n",
    "#     b = b.tolist() if isinstance(b, np.ndarray) else b \n",
    "    \n",
    "    _, m1 = len(a), len(a[0])\n",
    "    n2, _ = len(b), len(b[0])\n",
    "    if m1 == n2:  \n",
    "        return [[sum([r[i] * c[i] for i in range(len(r))]) for c in zip(*b)] for r in a]\n",
    "        \n",
    "        \n",
    "a = np.array([\n",
    "    [5, 1, -2, 0],\n",
    "    [0, 3, 4, 3],\n",
    "    [2, 3, 1, 1]\n",
    "])\n",
    "\n",
    "b = np.array([\n",
    "    [1, -3],\n",
    "    [2, -2],\n",
    "    [3, -1],\n",
    "    [0, 0]\n",
    "])\n",
    "print(a.shape, b.shape)\n",
    "sum([sum(r) for r in mult(a, b)])"
   ]
  },
  {
   "cell_type": "code",
   "execution_count": 23,
   "metadata": {
    "colab": {},
    "colab_type": "code",
    "id": "IIgYD1W5K7lB"
   },
   "outputs": [
    {
     "data": {
      "text/plain": [
       "-8"
      ]
     },
     "execution_count": 23,
     "metadata": {},
     "output_type": "execute_result"
    }
   ],
   "source": [
    "def np_mult(a, b):\n",
    "    # здесь напишите перемножение матриц с\n",
    "    # использованием NumPy и выведите результат\n",
    "    return a.dot(b)\n",
    "\n",
    "a = np.array([\n",
    "    [5, 1, -2, 0],\n",
    "    [0, 3, 4, 3],\n",
    "    [2, 3, 1, 1]\n",
    "])\n",
    "\n",
    "b = np.array([\n",
    "    [1, -3],\n",
    "    [2, -2],\n",
    "    [3, -1],\n",
    "    [0, 0]\n",
    "])\n",
    "\n",
    "np_mult(a, b).sum()"
   ]
  },
  {
   "cell_type": "code",
   "execution_count": 29,
   "metadata": {
    "colab": {
     "base_uri": "https://localhost:8080/",
     "height": 51
    },
    "colab_type": "code",
    "id": "tktkYzUHK7lE",
    "outputId": "9e9c5db8-cd49-4c0f-cb11-97825805163b"
   },
   "outputs": [
    {
     "name": "stdout",
     "output_type": "stream",
     "text": [
      "CPU times: user 576 ms, sys: 3.54 ms, total: 580 ms\n",
      "Wall time: 582 ms\n"
     ]
    }
   ],
   "source": [
    "%%time\n",
    "# засечем время работы функции без NumPy\n",
    "M1 = mult(a, b)"
   ]
  },
  {
   "cell_type": "code",
   "execution_count": 32,
   "metadata": {
    "colab": {
     "base_uri": "https://localhost:8080/",
     "height": 51
    },
    "colab_type": "code",
    "id": "TmD0adgHK7lK",
    "outputId": "2a78a62c-c2b2-45de-d417-30fcdfb11cf3"
   },
   "outputs": [
    {
     "name": "stdout",
     "output_type": "stream",
     "text": [
      "CPU times: user 483 µs, sys: 103 µs, total: 586 µs\n",
      "Wall time: 337 µs\n"
     ]
    }
   ],
   "source": [
    "%%time\n",
    "# засечем время работы функции с NumPy\n",
    "M2 = np_mult(a, b)"
   ]
  },
  {
   "cell_type": "code",
   "execution_count": 33,
   "metadata": {
    "colab": {
     "base_uri": "https://localhost:8080/",
     "height": 34
    },
    "colab_type": "code",
    "id": "oftqyANQK7lS",
    "outputId": "8dac878b-70c9-4f2e-fff9-994a73fcd757"
   },
   "outputs": [
    {
     "data": {
      "text/plain": [
       "1.553601691739459e-11"
      ]
     },
     "execution_count": 33,
     "metadata": {},
     "output_type": "execute_result"
    }
   ],
   "source": [
    "# проверим корректность\n",
    "np.abs(np.array(M1) - M2).sum()"
   ]
  },
  {
   "cell_type": "markdown",
   "metadata": {
    "colab_type": "text",
    "id": "2itTyTlcaHAu"
   },
   "source": [
    "### Задание 2"
   ]
  },
  {
   "cell_type": "markdown",
   "metadata": {
    "colab_type": "text",
    "id": "BCemQSq-aEbO"
   },
   "source": [
    "Вам подаются на вход два вектора `a` и `b` в трехмерном пространстве. Заполните их случайными числами. Реализуйте их скалярное произведение с помощью  `NumPy` и без. Засеките время работы, как это показано в заданиях выше."
   ]
  },
  {
   "cell_type": "code",
   "execution_count": 34,
   "metadata": {
    "colab": {
     "base_uri": "https://localhost:8080/",
     "height": 34
    },
    "colab_type": "code",
    "id": "lWhr_gPSZ9o_",
    "outputId": "734d9bf4-8c98-46a1-ffcc-934d0805024d"
   },
   "outputs": [
    {
     "name": "stdout",
     "output_type": "stream",
     "text": [
      "[0.56776034 0.93062938 0.83029833] [0.78787194 0.94919275 0.52574497]\n"
     ]
    }
   ],
   "source": [
    "a = np.random.sample((1, 3))\n",
    "a = list(a)[0]\n",
    "b = np.random.sample((1, 3))\n",
    "b = list(b)[0]\n",
    "print(a, b)"
   ]
  },
  {
   "cell_type": "code",
   "execution_count": 64,
   "metadata": {
    "colab": {},
    "colab_type": "code",
    "id": "GjlkcHIWZ_ae"
   },
   "outputs": [],
   "source": [
    "def scalar_product(a,b):\n",
    "    return sum([a[i] * b[i] for i in range(len(a))])"
   ]
  },
  {
   "cell_type": "code",
   "execution_count": 65,
   "metadata": {
    "colab": {},
    "colab_type": "code",
    "id": "C2M-OAp5Z_6a"
   },
   "outputs": [],
   "source": [
    "def np_scalar_product(a,b):\n",
    "    return a.dot(b)"
   ]
  },
  {
   "cell_type": "code",
   "execution_count": 66,
   "metadata": {
    "colab": {
     "base_uri": "https://localhost:8080/",
     "height": 102
    },
    "colab_type": "code",
    "id": "BOQfYf-2aCQJ",
    "outputId": "6a85f59a-2073-4824-e1bf-acf96ed274a0",
    "scrolled": true
   },
   "outputs": [
    {
     "name": "stdout",
     "output_type": "stream",
     "text": [
      "CPU times: user 19 µs, sys: 0 ns, total: 19 µs\n",
      "Wall time: 21.9 µs\n",
      "CPU times: user 27 µs, sys: 6 µs, total: 33 µs\n",
      "Wall time: 37.9 µs\n",
      "1.7671942743722469 1.7671942743722469\n"
     ]
    },
    {
     "data": {
      "text/plain": [
       "0.0"
      ]
     },
     "execution_count": 66,
     "metadata": {},
     "output_type": "execute_result"
    }
   ],
   "source": [
    "%time product_1 = scalar_product(a,b)\n",
    "%time product_2 = np_scalar_product(a,b)\n",
    "\n",
    "# проверим корректность:\n",
    "np.abs(product_1 - product_2).sum()"
   ]
  },
  {
   "cell_type": "markdown",
   "metadata": {
    "colab_type": "text",
    "id": "NHaHu6q1K7mH"
   },
   "source": [
    "Почему методы ***numpy*** оказываются эффективнее? Что вы можете сказать о скорости вычислений в NumPy?"
   ]
  },
  {
   "cell_type": "markdown",
   "metadata": {
    "colab_type": "text",
    "id": "PqsTAb1M7TTQ"
   },
   "source": [
    "------------------"
   ]
  },
  {
   "cell_type": "markdown",
   "metadata": {
    "colab_type": "text",
    "id": "_A3p2s4eK7mI"
   },
   "source": [
    "**Ответ:** Скорость вычислений вектоных и матричных операций в NumPy сильно превосходит скорость вычислений без него, по большей части потому, что функции numpy работаю с массивами данных одного типа (числовыми), это позволяет реализовать встроенные функции numpy на C/C++, что, конечно, делает numpy быстрее (функции, которые вызывает Numpy для работы с числовыми данными, сильно оптимизированы именно под эти задачи, а сам Python просто гоняет интерпретатор по циклу в таких операциях, что является чуть ли не самым большим замедлением в работе интерпретатора)."
   ]
  },
  {
   "cell_type": "markdown",
   "metadata": {
    "colab_type": "text",
    "id": "mJXeUuznK7lm"
   },
   "source": [
    "### Задание 3\n",
    "Напишите функцию, которая находим сумму четных диагональныех элементов квадратной матрицы. Если таких элементов нет, то вывести `0`."
   ]
  },
  {
   "cell_type": "code",
   "execution_count": 110,
   "metadata": {
    "colab": {},
    "colab_type": "code",
    "id": "qYNiKbK47TTS"
   },
   "outputs": [],
   "source": [
    "# функция, решающая задачу с помощью NumPy\n",
    "def diag_2k(a):\n",
    "    diag = np.diag(a)\n",
    "    return diag[np.logical_not((diag % 2).astype(bool))].sum()"
   ]
  },
  {
   "cell_type": "code",
   "execution_count": 111,
   "metadata": {
    "colab": {},
    "colab_type": "code",
    "id": "BdInn8_j7TTU",
    "outputId": "854af7cf-b713-40b1-8984-8868a42b4b5e"
   },
   "outputs": [
    {
     "data": {
      "text/plain": [
       "array([[7, 2, 5, 8, 8],\n",
       "       [8, 7, 2, 1, 7],\n",
       "       [2, 3, 2, 3, 2],\n",
       "       [7, 8, 7, 1, 7],\n",
       "       [8, 9, 6, 1, 7]])"
      ]
     },
     "execution_count": 111,
     "metadata": {},
     "output_type": "execute_result"
    }
   ],
   "source": [
    "# зададим некоторую квадратную матрицу\n",
    "a = np.random.randint(1, 10, size=(5, 5))\n",
    "a"
   ]
  },
  {
   "cell_type": "code",
   "execution_count": 112,
   "metadata": {
    "colab": {},
    "colab_type": "code",
    "id": "ZR97Nt9N7TTW",
    "outputId": "56679264-0a18-41ab-89d5-4dc758946885"
   },
   "outputs": [
    {
     "name": "stdout",
     "output_type": "stream",
     "text": [
      "CPU times: user 131 µs, sys: 152 µs, total: 283 µs\n",
      "Wall time: 1.19 ms\n"
     ]
    },
    {
     "data": {
      "text/plain": [
       "2"
      ]
     },
     "execution_count": 112,
     "metadata": {},
     "output_type": "execute_result"
    }
   ],
   "source": [
    "%%time\n",
    "# засечем время работы функции с NumPy\n",
    "diag_2k(a)"
   ]
  },
  {
   "cell_type": "markdown",
   "metadata": {
    "colab_type": "text",
    "id": "cdcRkFzQ7TTY"
   },
   "source": [
    "### Задание 4\n",
    "Напишите функцию, которая по данной последовательности $\\{A_i\\}_{i=1}^n$ строит последовательность $S_n$, где $S_k = \\frac{A_1 + ... + A_k}{k}$.  "
   ]
  },
  {
   "cell_type": "code",
   "execution_count": 113,
   "metadata": {},
   "outputs": [
    {
     "data": {
      "text/plain": [
       "array([[ 1,  3,  6],\n",
       "       [ 1,  4,  9],\n",
       "       [ 3,  9, 17]])"
      ]
     },
     "execution_count": 113,
     "metadata": {},
     "output_type": "execute_result"
    }
   ],
   "source": [
    "import numpy as np\n",
    "\n",
    "def cumsum(A):\n",
    "    return np.cumsum(A, axis=1)\n",
    "\n",
    "A = np.array([\n",
    "    [1, 2, 3],\n",
    "    [1, 3, 5],\n",
    "    [3, 6, 8]\n",
    "])\n",
    "\n",
    "cumsum(A)"
   ]
  },
  {
   "cell_type": "code",
   "execution_count": 0,
   "metadata": {
    "colab": {},
    "colab_type": "code",
    "id": "REgL39ksK7lr"
   },
   "outputs": [],
   "source": [
    "# функция, решающая задачу с помощью NumPy\n",
    "def np_sec_av(A):\n",
    "    return #YOUR CODE"
   ]
  },
  {
   "cell_type": "code",
   "execution_count": 0,
   "metadata": {
    "colab": {
     "base_uri": "https://localhost:8080/",
     "height": 102
    },
    "colab_type": "code",
    "id": "HcVN8MagK7lw",
    "outputId": "a4cc2ffd-84f2-46b5-9789-aa728d8899f9"
   },
   "outputs": [
    {
     "name": "stdout",
     "output_type": "stream",
     "text": [
      "CPU times: user 616 µs, sys: 0 ns, total: 616 µs\n",
      "Wall time: 507 µs\n"
     ]
    }
   ],
   "source": [
    "# зададим некоторую последовательность и проверим ее на ваших функциях. \n",
    "# функция должна работать ~ в 50 раз быстрее, чем без Numpy\n",
    "A = sps.uniform.rvs(size=10**3) \n",
    "\n",
    "%time S2 = np_sec_av(A)"
   ]
  },
  {
   "cell_type": "markdown",
   "metadata": {
    "colab_type": "text",
    "id": "teVCPWZmK7l5"
   },
   "source": [
    "### Задание 5\n",
    "\n",
    "​\n",
    "Задан двумерный массив $X$. Для каждой строчки массива X необходимо сделать следующее преобразование.\n",
    "\n",
    "Пусть дана строчка x. Необходимо построить новый массив, где все элементы с нечетными индексами требуется заменить на число a (значение по умолчанию a=1). Все элементы с четными индексами нужно возвести в куб. Затем записать элементы в обратном порядке относительно их позиций. В конце требуется слить массив xс преобразованным xи вывести.\n",
    "\n",
    "Напишите функцию, которая выполняет данное преобразование для каждой строчки двумерного массива X. Массив X при этом должен остаться без изменений.\n",
    "\n",
    "Используйте библиотеку numpy.\n",
    "\n",
    "Пример:\n",
    "$X = [[100,200,300,400,500]]$ -> $[[100,a,300,a,500]]$ -> $[[500^3,a,300^3,a,100^3]]$ -> склеиваем -> $[[100,200,300,400,500,500^3,a,300^3,a,100^3]]$\n",
    "\n",
    "​"
   ]
  },
  {
   "cell_type": "code",
   "execution_count": 134,
   "metadata": {
    "colab": {},
    "colab_type": "code",
    "id": "0hmcvfDVK7l-"
   },
   "outputs": [
    {
     "data": {
      "text/plain": [
       "array([[    100,     200,     300,     400,     500,       1,     400,\n",
       "              1, 8000000,       1]])"
      ]
     },
     "execution_count": 134,
     "metadata": {},
     "output_type": "execute_result"
    }
   ],
   "source": [
    "# функция, решающая задачу с помощью NumPy\n",
    "from copy import copy\n",
    "    \n",
    "def transform(X, a=1):\n",
    "    if X.ndim == 1:\n",
    "        X = X[:, None]\n",
    "    X_cp = np.copy(X)\n",
    "    X_cp[:, 1::2] = a\n",
    "    X_cp[:, ::2] **= 3\n",
    "    return np.hstack((X, X_cp[:, ::-1]))\n",
    "\n",
    "X = np.array([[100, 200, 300, 400, 500]])\n",
    "np_transformation(X)"
   ]
  },
  {
   "cell_type": "code",
   "execution_count": 136,
   "metadata": {
    "colab": {
     "base_uri": "https://localhost:8080/",
     "height": 102
    },
    "colab_type": "code",
    "id": "r2-JLMhxK7mE",
    "outputId": "13559189-f157-4649-dc9d-f12af1366519",
    "scrolled": true
   },
   "outputs": [
    {
     "name": "stdout",
     "output_type": "stream",
     "text": [
      "CPU times: user 727 µs, sys: 1.81 ms, total: 2.53 ms\n",
      "Wall time: 2.26 ms\n"
     ]
    }
   ],
   "source": [
    "X = np.array([i for i in range(1, 10, 2)])\n",
    "# функция должна работать ~ в 20 раз быстрее, чем без Numpy \n",
    "%time S2 = transform(X, 5)"
   ]
  },
  {
   "cell_type": "markdown",
   "metadata": {
    "colab_type": "text",
    "id": "qa521fce7TTk"
   },
   "source": [
    "### Задание 6\n",
    "Написать функцию для кодирование массива (Run-length encoding). Все подряд повторения элементов функция сжимает в один элемент и считает количество повторений. Функция возвращает кортеж из двух векторов одинаковой длины. Первый содержит элементы, а второй — сколько раз их нужно повторить. \n",
    "\n",
    "Пример: encode(np.array([1, 2, 2, 3, 3, 1, 1, 5, 5, 2, 3, 3])) = (np.array[1, 2, 3, 1, 5, 2, 3]), np.array[1, 2, 2, 2, 2, 1, 2])"
   ]
  },
  {
   "cell_type": "code",
   "execution_count": 166,
   "metadata": {
    "colab": {},
    "colab_type": "code",
    "id": "4wD7OSVv7TTl"
   },
   "outputs": [],
   "source": [
    "# функция, решающая задачу с помощью NumPy\n",
    "from itertools import groupby\n",
    "\n",
    "\n",
    "def encode(a):\n",
    "    counts, values = [], []\n",
    "    prev = None  \n",
    "    i = 0 \n",
    "    for v in a:\n",
    "        if prev != v: \n",
    "            counts.append(i), values.append(v)\n",
    "            i = 0\n",
    "        prev = v\n",
    "        i += 1 \n",
    "    counts.append(i)\n",
    "    \n",
    "    return np.array(values), np.array(counts[1:]) \n",
    "\n",
    "\n",
    "def encode(a):\n",
    "    values, counts = zip(*[(k, len(list(g))) for k, g in groupby(a)])\n",
    "    return np.array(values), np.array(counts)"
   ]
  },
  {
   "cell_type": "code",
   "execution_count": 167,
   "metadata": {
    "colab": {},
    "colab_type": "code",
    "id": "P7YxojET7TTn",
    "outputId": "4a5fdafe-55a1-4c10-857e-305ce1ee68e0"
   },
   "outputs": [
    {
     "name": "stdout",
     "output_type": "stream",
     "text": [
      "CPU times: user 37 µs, sys: 0 ns, total: 37 µs\n",
      "Wall time: 41 µs\n"
     ]
    },
    {
     "data": {
      "text/plain": [
       "(array([1, 2, 3, 1, 5, 2, 3]), array([1, 2, 2, 2, 2, 1, 2]))"
      ]
     },
     "execution_count": 167,
     "metadata": {},
     "output_type": "execute_result"
    }
   ],
   "source": [
    "X = np.array([1, 2, 2, 3, 3, 1, 1, 5, 5, 2, 3, 3])\n",
    "\n",
    "# %time x, num = encode(X)\n",
    "%time encode(X)"
   ]
  },
  {
   "cell_type": "code",
   "execution_count": 0,
   "metadata": {
    "colab": {},
    "colab_type": "code",
    "id": "UFEfPGvY7TTp"
   },
   "outputs": [],
   "source": []
  }
 ],
 "metadata": {
  "colab": {
   "collapsed_sections": [],
   "name": "[homework,basic]numpy.ipynb",
   "provenance": []
  },
  "kernelspec": {
   "display_name": "Python 3",
   "language": "python",
   "name": "python3"
  },
  "language_info": {
   "codemirror_mode": {
    "name": "ipython",
    "version": 3
   },
   "file_extension": ".py",
   "mimetype": "text/x-python",
   "name": "python",
   "nbconvert_exporter": "python",
   "pygments_lexer": "ipython3",
   "version": "3.7.3"
  }
 },
 "nbformat": 4,
 "nbformat_minor": 1
}
