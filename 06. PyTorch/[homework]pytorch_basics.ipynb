{
 "cells": [
  {
   "cell_type": "markdown",
   "metadata": {
    "colab_type": "text",
    "id": "wscvRoo_Y2bp"
   },
   "source": [
    "<p style=\"align: center;\"><img align=center src=\"https://s8.hostingkartinok.com/uploads/images/2018/08/308b49fcfbc619d629fe4604bceb67ac.jpg\"  width=400></p>\n",
    "\n",
    "<h3 style=\"text-align: center;\"><b>Физтех-Школа Прикладной математики и информатики (ФПМИ) МФТИ</b></h3>"
   ]
  },
  {
   "cell_type": "code",
   "execution_count": 2,
   "metadata": {
    "colab": {},
    "colab_type": "code",
    "id": "Lg09ve27Y2br"
   },
   "outputs": [],
   "source": [
    "from matplotlib import pyplot as plt\n",
    "import numpy as np\n",
    "from sklearn import datasets\n",
    "from sklearn.model_selection import train_test_split\n",
    "import torch\n",
    "\n",
    "device = torch.device(\"cuda:0\" if torch.cuda.is_available() else \"cpu\")"
   ]
  },
  {
   "cell_type": "markdown",
   "metadata": {
    "colab_type": "text",
    "id": "Gbpu-GrgY2bv"
   },
   "source": [
    "### 1. Нахождение сложной производной"
   ]
  },
  {
   "cell_type": "markdown",
   "metadata": {
    "colab_type": "text",
    "id": "GZKVcvtTY2bw"
   },
   "source": [
    "Найдите производную по x от функции \n",
    "$$\\sin\\left(\\tan(x)\\frac{x^2}{y} + \\ln(e^{-x^2 + 3}+x^3y)\\right)\\tan(x^2e^{x^9})$$\n",
    "\n",
    "При этом надо пользоваться встроенным в PyTorch autograd. Численное вычисление производной может не дать нужный результат."
   ]
  },
  {
   "cell_type": "code",
   "execution_count": 10,
   "metadata": {
    "colab": {},
    "colab_type": "code",
    "id": "ihvUiIDQY2bx"
   },
   "outputs": [
    {
     "data": {
      "text/plain": [
       "tensor([-9.0207], dtype=torch.float64)"
      ]
     },
     "execution_count": 10,
     "metadata": {},
     "output_type": "execute_result"
    }
   ],
   "source": [
    "def get_grad(res, x): \n",
    "    res.backward()\n",
    "    return x.grad\n",
    "    \n",
    "def func(x, y):\n",
    "    return torch.sin(torch.tan(x) * ((x ** 2) / y) + torch.log(torch.exp(-x ** 2 + 3) + (x ** 3) * y)) * torch.tan(x ** 2 * torch.exp(x ** 9))\n",
    "    \n",
    "def find_x_derivative(x, y):\n",
    "    if not isinstance(x, torch.Tensor): x = torch.tensor([x], dtype=float, requires_grad=True)\n",
    "    if not isinstance(y, torch.Tensor): y = torch.tensor([y], dtype=float, requires_grad=True)\n",
    "    \n",
    "    res = func(x, y)\n",
    "    return get_grad(res, x)\n",
    "\n",
    "find_x_derivative(1., 21.)"
   ]
  },
  {
   "cell_type": "markdown",
   "metadata": {
    "colab_type": "text",
    "collapsed": true,
    "id": "mNbn5UzGY2b0"
   },
   "source": [
    "# 2. Нахождение косинусной близости\n",
    "\n",
    "Вам даны две матрицы A и B. Необходимо посчитать косинусную близость между строчками матрицы A и столбцами матрицы B. Ответ - матрица чисел, где номер строки - номер строки из матрицы А, а номер столбца - номер столбца из В, от которых бралась косинусная близость.\n",
    "\n",
    "Напомним, что косинусная близость двух векторов - косинус угла между ними. В n-мерном пространстве косинус угла между веткорами удобнее всего через скалярное произведение:\n",
    "$$\\cos(angle(x, y)) = \\frac{x \\cdot y}{\\left\\|x\\right\\| \\left\\|y\\right\\|}$$\n",
    "\n",
    "(Наша операция очень похожа на умножение матриц)"
   ]
  },
  {
   "cell_type": "code",
   "execution_count": 14,
   "metadata": {},
   "outputs": [
    {
     "name": "stdout",
     "output_type": "stream",
     "text": [
      "Help on function norm in module torch.functional:\n",
      "\n",
      "norm(input, p='fro', dim=None, keepdim=False, out=None, dtype=None)\n",
      "    Returns the matrix norm or vector norm of a given tensor.\n",
      "    \n",
      "    Args:\n",
      "        input (Tensor): the input tensor\n",
      "        p (int, float, inf, -inf, 'fro', 'nuc', optional): the order of norm. Default: ``'fro'``\n",
      "            The following norms can be calculated:\n",
      "    \n",
      "            =====  ============================  ==========================\n",
      "            ord    matrix norm                   vector norm\n",
      "            =====  ============================  ==========================\n",
      "            None   Frobenius norm                2-norm\n",
      "            'fro'  Frobenius norm                --\n",
      "            'nuc'  nuclear norm                  --\n",
      "            Other  as vec norm when dim is None  sum(abs(x)**ord)**(1./ord)\n",
      "            =====  ============================  ==========================\n",
      "    \n",
      "        dim (int, 2-tuple of ints, 2-list of ints, optional): If it is an int,\n",
      "            vector norm will be calculated, if it is 2-tuple of ints, matrix norm\n",
      "            will be calculated. If the value is None, matrix norm will be calculated\n",
      "            when the input tensor only has two dimensions, vector norm will be\n",
      "            calculated when the input tensor only has one dimension. If the input\n",
      "            tensor has more than two dimensions, the vector norm will be applied to\n",
      "            last dimension.\n",
      "        keepdim (bool, optional): whether the output tensors have :attr:`dim`\n",
      "            retained or not. Ignored if :attr:`dim` = ``None`` and\n",
      "            :attr:`out` = ``None``. Default: ``False``\n",
      "        out (Tensor, optional): the output tensor. Ignored if\n",
      "            :attr:`dim` = ``None`` and :attr:`out` = ``None``.\n",
      "        dtype (:class:`torch.dtype`, optional): the desired data type of\n",
      "            returned tensor. If specified, the input tensor is casted to\n",
      "            :attr:'dtype' while performing the operation. Default: None.\n",
      "    \n",
      "    \n",
      "    Example::\n",
      "    \n",
      "        >>> import torch\n",
      "        >>> a = torch.arange(9, dtype= torch.float) - 4\n",
      "        >>> b = a.reshape((3, 3))\n",
      "        >>> torch.norm(a)\n",
      "        tensor(7.7460)\n",
      "        >>> torch.norm(b)\n",
      "        tensor(7.7460)\n",
      "        >>> torch.norm(a, float('inf'))\n",
      "        tensor(4.)\n",
      "        >>> torch.norm(b, float('inf'))\n",
      "        tensor(4.)\n",
      "        >>> c = torch.tensor([[ 1, 2, 3],[-1, 1, 4]] , dtype= torch.float)\n",
      "        >>> torch.norm(c, dim=0)\n",
      "        tensor([1.4142, 2.2361, 5.0000])\n",
      "        >>> torch.norm(c, dim=1)\n",
      "        tensor([3.7417, 4.2426])\n",
      "        >>> torch.norm(c, p=1, dim=1)\n",
      "        tensor([6., 6.])\n",
      "        >>> d = torch.arange(8, dtype= torch.float).reshape(2,2,2)\n",
      "        >>> torch.norm(d, dim=(1,2))\n",
      "        tensor([ 3.7417, 11.2250])\n",
      "        >>> torch.norm(d[0, :, :]), torch.norm(d[1, :, :])\n",
      "        (tensor(3.7417), tensor(11.2250))\n",
      "\n"
     ]
    }
   ],
   "source": [
    "help(torch.norm)"
   ]
  },
  {
   "cell_type": "code",
   "execution_count": 39,
   "metadata": {
    "colab": {},
    "colab_type": "code",
    "id": "9r2uiysQY2b1"
   },
   "outputs": [
    {
     "data": {
      "text/plain": [
       "tensor(0.1498, dtype=torch.float64)"
      ]
     },
     "execution_count": 39,
     "metadata": {},
     "output_type": "execute_result"
    }
   ],
   "source": [
    "def get_cos_sim(A, B):\n",
    "    \"\"\"\n",
    "        A, B - torch float tensors\n",
    "    \"\"\"   \n",
    "    return A / torch.norm(A, dim=1, keepdim=True) @ B / torch.norm(B, dim=0)\n",
    "\n",
    "\n",
    "A = [\n",
    "    [1, -47, 25, -3], \n",
    "    [10, 17, -15, 22], \n",
    "    [-3, -7, 26, 36],\n",
    "    [12, -27, -42, 0]\n",
    "]\n",
    "\n",
    "B = [\n",
    "    [-50, -13, 1, 10, 1242],\n",
    "    [21, 48, -13, -14, -20],\n",
    "    [20, 15, 11, 43, 11],\n",
    "    [11, 103, 147, 27, -8]\n",
    "]\n",
    "\n",
    "get_cos_sim(torch.tensor(A, dtype=float), torch.tensor(B, dtype=float)).mean()"
   ]
  },
  {
   "cell_type": "markdown",
   "metadata": {
    "colab_type": "text",
    "id": "BR_2JtdtY2b4"
   },
   "source": [
    "# 3. Линейная регрессия\n",
    "\n",
    "Раньше мы самостоятельно считали производные, чтобы находить веса линейной регрессии с помощью градиентного спуска. Теперь нам нужно использовать для этого PyTorch и его autograd. \n",
    "\n",
    "**Важно**: на самом деле .backward не обновляет содержимое матриц с производными (some_tensor.grad), а прибавляет к ним только что посчитаные значения проивзодных. Это значит, что вызвав .backward дважды, вы получите удвоенную производную. Так как мы обновляем веса в цикле и много раз вызываем .backward, то очень быстро мы получим мусор в some_tensor.grad, если не будем его каждый раз обнулять. Таким образом, в конц итериации после использования производных обнулите значения в матрице производных для всех нужных Вам переменных. Делается это вот так \n",
    "> some\\_tensor.grad.data.zero_()"
   ]
  },
  {
   "cell_type": "code",
   "execution_count": 87,
   "metadata": {
    "colab": {},
    "colab_type": "code",
    "id": "XbuGEdgBY2b5"
   },
   "outputs": [],
   "source": [
    "class LinearRegression:\n",
    "    def get_loss(self, preds, y):\n",
    "        \"\"\"\n",
    "            @param preds: предсказания модели\n",
    "            @param y: истиные значения\n",
    "            @return mse: значение MSE на переданных данных\n",
    "        \"\"\"\n",
    "        # возьмите средний квадрат ошибки по всем выходным переменным\n",
    "        # то есть сумму квадратов ошибки надо поделить на количество_элементов * количество_таргетов        \n",
    "        return ((preds - y) ** 2).sum() / y.numel()\n",
    "    \n",
    "    def init_weights(self, input_size, output_size):\n",
    "        \"\"\"\n",
    "            Инициализирует параметры модели\n",
    "            W - матрица размерности (input_size, output_size)\n",
    "            инициализируется рандомными числами из\n",
    "            uniform распределения (torch.rand())\n",
    "            b - вектор размерности (1, output_size)\n",
    "            инициализируется нулями\n",
    "        \"\"\"\n",
    "        torch.manual_seed(0) #необходимо для воспроизводимости результатов\n",
    "        self.W = torch.rand(input_size, output_size,  requires_grad=True)\n",
    "        self.b = torch.zeros(1, output_size, requires_grad=True)\n",
    "\n",
    "    def fit(self, X, y, num_epochs=1000, lr=0.001):\n",
    "        \"\"\"\n",
    "            Обучение модели линейной регрессии методом градиентного спуска\n",
    "            @param X: размерности (num_samples, input_shape)\n",
    "            @param y: размерности (num_samples, output_shape)\n",
    "            @param num_epochs: количество итераций градиентного спуска\n",
    "            @param lr: шаг градиентного спуска\n",
    "            @return metrics: вектор значений MSE на каждом шаге градиентного\n",
    "            спуска.\n",
    "        \"\"\"\n",
    "        self.init_weights(X.shape[1], y.shape[1])\n",
    "        metrics = []\n",
    "        for _ in range(num_epochs):\n",
    "            preds = self.predict(X)\n",
    "            loss = self.get_loss(preds, y)\n",
    "            loss.backward()\n",
    "            # сделайте вычисления градиентов c помощью Pytorch и обновите веса\n",
    "            # осторожнее, оберните вычитание градиента в \n",
    "#                 with torch.no_grad():\n",
    "#                     #some code\n",
    "            # иначе во время прибавления градиента к переменной создастся очень много нод в дереве операций\n",
    "            # и ваши модели в будущем будут падать от нехватки памяти\n",
    "            with torch.no_grad():\n",
    "                self.W -= lr * self.W.grad\n",
    "                self.b -= lr * self.b.grad\n",
    "                self.W.grad.zero_(), self.b.grad.zero_()\n",
    "                \n",
    "            metrics.append(self.get_loss(preds, y).data)\n",
    "        return metrics\n",
    "\n",
    "    def predict(self, X):\n",
    "        \"\"\"\n",
    "            Думаю, тут все понятно. Сделайте свои предсказания :)\n",
    "        \"\"\"\n",
    "        return X @ self.W + self.b"
   ]
  },
  {
   "cell_type": "code",
   "execution_count": 88,
   "metadata": {
    "colab": {},
    "colab_type": "code",
    "id": "zOVkSg_0Y2b8"
   },
   "outputs": [],
   "source": [
    "X, Y = datasets.make_regression(n_targets=3, n_features=2, noise=10, random_state=42)\n",
    "X = torch.tensor(X, dtype=torch.float32, requires_grad=True)\n",
    "Y = torch.tensor(Y, dtype=torch.float32, requires_grad=True)\n",
    "model = LinearRegression()\n",
    "mse = model.fit(X, Y)"
   ]
  },
  {
   "cell_type": "code",
   "execution_count": 89,
   "metadata": {
    "colab": {},
    "colab_type": "code",
    "id": "oMgiJA_Va6g_"
   },
   "outputs": [
    {
     "name": "stdout",
     "output_type": "stream",
     "text": [
      "4256.561\n"
     ]
    }
   ],
   "source": [
    "print(np.mean(mse))"
   ]
  },
  {
   "cell_type": "markdown",
   "metadata": {
    "colab_type": "text",
    "id": "iJVuCWOxbACZ"
   },
   "source": [
    "Здесь предлагаем протестировать метод predict удобным вам образом."
   ]
  },
  {
   "cell_type": "code",
   "execution_count": 0,
   "metadata": {
    "colab": {},
    "colab_type": "code",
    "id": "XF5Rw27ba-mj"
   },
   "outputs": [],
   "source": [
    "#YOUR CODE"
   ]
  }
 ],
 "metadata": {
  "colab": {
   "collapsed_sections": [],
   "name": "[homework]pytorch_basics.ipynb",
   "provenance": []
  },
  "hide_input": false,
  "kernelspec": {
   "display_name": "Python 3",
   "language": "python",
   "name": "python3"
  },
  "language_info": {
   "codemirror_mode": {
    "name": "ipython",
    "version": 3
   },
   "file_extension": ".py",
   "mimetype": "text/x-python",
   "name": "python",
   "nbconvert_exporter": "python",
   "pygments_lexer": "ipython3",
   "version": "3.7.3"
  },
  "varInspector": {
   "cols": {
    "lenName": 16,
    "lenType": 16,
    "lenVar": 40
   },
   "kernels_config": {
    "python": {
     "delete_cmd_postfix": "",
     "delete_cmd_prefix": "del ",
     "library": "var_list.py",
     "varRefreshCmd": "print(var_dic_list())"
    },
    "r": {
     "delete_cmd_postfix": ") ",
     "delete_cmd_prefix": "rm(",
     "library": "var_list.r",
     "varRefreshCmd": "cat(var_dic_list()) "
    }
   },
   "types_to_exclude": [
    "module",
    "function",
    "builtin_function_or_method",
    "instance",
    "_Feature"
   ],
   "window_display": false
  }
 },
 "nbformat": 4,
 "nbformat_minor": 1
}
